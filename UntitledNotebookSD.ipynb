{
  "nbformat": 4,
  "nbformat_minor": 0,
  "metadata": {
    "colab": {
      "provenance": [],
      "gpuType": "T4",
      "include_colab_link": true
    },
    "kernelspec": {
      "name": "python3",
      "display_name": "Python 3"
    },
    "language_info": {
      "name": "python"
    },
    "accelerator": "GPU",
    "gpuClass": "standard"
  },
  "cells": [
    {
      "cell_type": "markdown",
      "metadata": {
        "id": "view-in-github",
        "colab_type": "text"
      },
      "source": [
        "<a href=\"https://colab.research.google.com/github/AlexSgt/lite_colab/blob/main/UntitledNotebookSD.ipynb\" target=\"_parent\"><img src=\"https://colab.research.google.com/assets/colab-badge.svg\" alt=\"Open In Colab\"/></a>"
      ]
    },
    {
      "cell_type": "code",
      "source": [
        "#@markdown # Requirements\n",
        "\n",
        "from IPython.display import clear_output\n",
        "\n",
        "print('\u001b[1;32mInstalling requirements...')\n",
        "#%pip install --quiet blendmodes accelerate basicsr fonts font-roboto gfpgan gradio invisible-watermark numpy omegaconf opencv-contrib-python requests piexif Pillow pytorch-lightning==1.7.7 realesrgan scikit-image==0.19 timm==0.4.12 transformers==4.25.1 torch einops jsonmerge clean-fid resize-right torchdiffeq kornia lark inflection GitPython torchsde safetensors psutil rich\n",
        "#%cd /content/\n",
        "!git clone -q --branch main https://github.com/AlexSgt/lite_colab\n",
        "%cd /content/lite_colab\n",
        "%pip install -r requirements.txt --quiet\n",
        "!sed -i \"s@os.path.splitext(checkpoint_file)@os.path.splitext(checkpoint_file); map_location='cuda'@\" /content/lite_colab/modules/sd_models.py\n",
        "!sed -i 's@ui.create_ui().*@ui.create_ui();shared.demo.queue(concurrency_count=999999,status_update_rate=0.1)@' /content/lite_colab/startfk.py\n",
        "!sed -i \"s@map_location='cpu'@map_location='cuda'@\" /content/lite_colab/modules/extras.py\n",
        "!cp /content/lite_colab/assets/blocks.py /usr/local/lib/python3.10/dist-packages/gradio/blocks.py\n",
        "\n",
        "clear_output()\n",
        "print('\u001b[1;32mDone!')\n",
        "#!python launch.py --share --theme dark --api --ckpt-dir /content/models/ --disable-safe-unpickle --enable-insecure-extension-access --opt-sdp-attention --disable-console-progressbars --no-download-sd-model"
      ],
      "metadata": {
        "id": "ciseg_wdLz3S",
        "cellView": "form"
      },
      "execution_count": 1,
      "outputs": []
    },
    {
      "cell_type": "code",
      "source": [
        "#@markdown # Models\n",
        "\n",
        "print('\u001b[1;32mDownload models...')\n",
        "!wget -q -O /content/lite_colab/models/Stable-diffusion/Deliberate_v2.safetensors https://huggingface.co/XpucT/Deliberate/resolve/main/Deliberate_v2.safetensors\n",
        "#!wget -q -O /content/lite_colab/models/Stable-diffusion/Realistic_Vision.safetensors https://civitai.com/api/download/models/29460?type=Model&format=SafeTensor&size=full&fp=fp16\n",
        "#!wget -q -O /content/lite_colab/models/Stable-diffusion/CyberRealistic.safetensors https://civitai.com/api/download/models/63401?type=Model&format=SafeTensor&size=full&fp=fp32"
      ],
      "metadata": {
        "cellView": "form",
        "id": "7ZnYMpuPyW_n"
      },
      "execution_count": null,
      "outputs": []
    },
    {
      "cell_type": "code",
      "source": [
        "#@markdown # Start SD\n",
        "\n",
        "!python launch.py --share --api --disable-safe-unpickle --enable-insecure-extension-access --opt-sdp-attention --disable-console-progressbars --no-download-sd-model"
      ],
      "metadata": {
        "cellView": "form",
        "id": "HAFOrFrYyZaY"
      },
      "execution_count": null,
      "outputs": []
    }
  ]
}